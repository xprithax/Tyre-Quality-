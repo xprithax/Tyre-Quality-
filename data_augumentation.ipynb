{
  "nbformat": 4,
  "nbformat_minor": 0,
  "metadata": {
    "colab": {
      "provenance": []
    },
    "kernelspec": {
      "name": "python3",
      "display_name": "Python 3"
    },
    "language_info": {
      "name": "python"
    }
  },
  "cells": [
    {
      "cell_type": "code",
      "source": [
        "from google.colab import drive\n",
        "drive.mount('/content/drive')"
      ],
      "metadata": {
        "colab": {
          "base_uri": "https://localhost:8080/"
        },
        "id": "lOxzfbQ-u0dp",
        "outputId": "4ed34fb9-eeaa-4772-9a8c-d825f3d9e42a"
      },
      "execution_count": null,
      "outputs": [
        {
          "output_type": "stream",
          "name": "stdout",
          "text": [
            "Mounted at /content/drive\n"
          ]
        }
      ]
    },
    {
      "cell_type": "code",
      "source": [
        "import os\n",
        "from PIL import Image"
      ],
      "metadata": {
        "id": "Wqi9L4Yau2kp"
      },
      "execution_count": null,
      "outputs": []
    },
    {
      "cell_type": "code",
      "source": [
        "dataset_folder = '/content/drive/MyDrive/Tyre Quality'\n",
        "img_path = '/content/drive/MyDrive/Tyre Quality/training/defective/Defective (1).jpg'\n",
        "training_dataset_path = '/content/drive/MyDrive/Tyre Quality/training'\n",
        "testing_dataset_path = '/content/drive/MyDrive/Tyre Quality/testing'\n",
        "classes = sorted(os.listdir(dataset_folder + '/training'))"
      ],
      "metadata": {
        "id": "nqQdQMbiu5oF"
      },
      "execution_count": null,
      "outputs": []
    },
    {
      "cell_type": "code",
      "execution_count": null,
      "metadata": {
        "id": "m0zojksHuy6Q"
      },
      "outputs": [],
      "source": [
        "import os\n",
        "from PIL import Image\n",
        "\n",
        "# Define paths\n",
        "training_dataset_path = os.path.join(dataset_folder, 'training')\n",
        "output_augmented_path = '/content/drive/MyDrive/Tyre Quality/training'  # Local folder to store augmented images\n",
        "\n",
        "# Ensure output directory exists\n",
        "if not os.path.exists(output_augmented_path):\n",
        "    os.makedirs(output_augmented_path)\n",
        "\n",
        "# Define augmentation functions\n",
        "def rotate_image(image, angle):\n",
        "    return image.rotate(angle)\n",
        "\n",
        "def flip_image(image, flip_type='horizontal'):\n",
        "    if flip_type == 'horizontal':\n",
        "        return image.transpose(Image.FLIP_LEFT_RIGHT)\n",
        "    elif flip_type == 'vertical':\n",
        "        return image.transpose(Image.FLIP_TOP_BOTTOM)\n",
        "\n",
        "# Define rotation angles and flip types\n",
        "rotation_angles = [90, 180, 270]\n",
        "flip_types = ['horizontal', 'vertical']\n",
        "\n",
        "# Get class names\n",
        "classes = sorted(os.listdir(training_dataset_path))\n",
        "\n",
        "# Apply rotation and flipping\n",
        "for class_name in classes:\n",
        "    class_path = os.path.join(training_dataset_path, class_name)\n",
        "    augmented_class_path = os.path.join(output_augmented_path, class_name)\n",
        "\n",
        "    # Create class-specific augmented folder if it doesn't exist\n",
        "    if not os.path.exists(augmented_class_path):\n",
        "        os.makedirs(augmented_class_path)\n",
        "\n",
        "    # Process each image in the class folder\n",
        "    for img_name in os.listdir(class_path):\n",
        "        img_path = os.path.join(class_path, img_name)\n",
        "        img = Image.open(img_path)\n",
        "\n",
        "        # Save rotated images\n",
        "        for angle in rotation_angles:\n",
        "            rotated_img = rotate_image(img, angle)\n",
        "            rotated_img.save(os.path.join(augmented_class_path, f'{img_name.split(\".\")[0]}_rot{angle}.jpg'))\n",
        "\n",
        "        # Save flipped images\n",
        "        for flip_type in flip_types:\n",
        "            flipped_img = flip_image(img, flip_type)\n",
        "            flip_suffix = 'hflip' if flip_type == 'horizontal' else 'vflip'\n",
        "            flipped_img.save(os.path.join(augmented_class_path, f'{img_name.split(\".\")[0]}_{flip_suffix}.jpg'))\n",
        "\n",
        "print(\"Data augmentation completed. Augmented images saved in the './augmented_images' folder.\")\n"
      ]
    },
    {
      "cell_type": "code",
      "source": [],
      "metadata": {
        "id": "hHqenNXGvYRG"
      },
      "execution_count": null,
      "outputs": []
    }
  ]
}